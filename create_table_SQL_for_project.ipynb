# CONNECTING WITH MYSQL DATABASE
import mysql.connector

mydb = mysql.connector.connect(host="127.0.0.1",
                               user="root",
                               password="shruthi05",
                               database="youtube_db"
                               )
mycursor = mydb.cursor(buffered=True)


def create_table():
    channel_details = (
        "create table channels (channel_id varchar(255),channel_name varchar(255), Playlist_id varchar(255),subscription_count int,views int,Total_videos int,channel_description text,country text);")
    mycursor.execute(channel_details)
    return


create_table()


def create_video():
    video_details = (
        "create table videos (channel_name varchar(255),channel_id varchar(255),video_id varchar(255),title varchar(255),thumbnail varchar(255),video_description text, published_date varchar(255),Duration varchar(255), views int, likes int,comments int,favorite_count int,Definition varchar(255),Caption_status varchar(255));")
    mycursor.execute(video_details)
    return


create_video()


def comments():
    comments_details = (
        "create table comments (comment_Id varchar(255), video_Id varchar(255), comment_text text, comment_author varchar(255), comment_posted_date varchar(255),like_count int,Reply_count int);")
    mycursor.execute(comments_details)

    return


comments()
Create Tables Channels (
    channel_id varchar(255) PRIMARY KEY,
    channel_name varchar(255),
    playlist_id varchar(255),
    subscription_count int,
    views int,
    total_videos int,
    channel_description text,
    country text
);

CREATE TABLE videos (
    channel_name varchar(255),
    channel_id varchar(255),
    video_id varchar(255) PRIMARY KEY,
    title varchar(255),
    thumbnail varchar(255),
    video_description text,
    published_date varchar(255),
    duration varchar(255),
    views int,
    likes int,
    comments int,
    favorite_count int,
    definition varchar(255),
    caption_status varchar(255),
    FOREIGN KEY (channel_id) REFERENCES channels(channel_id)
);

CREATE TABLE comments (
    comment_Id varchar(255) PRIMARY KEY,
    video_Id varchar(255),
    comment_text text,
    comment_author varchar(255),
    comment_posted_date varchar(255),
    like_count int,
    Reply_count int,
    FOREIGN KEY (video_Id) REFERENCES videos(video_id)
);

describe channels;
describe videos;
describe comments;

select * from channels;
select * from videos;
select * from comments;
